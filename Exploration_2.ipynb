{
  "nbformat": 4,
  "nbformat_minor": 0,
  "metadata": {
    "colab": {
      "name": "Exploration 2.ipynb",
      "provenance": [],
      "collapsed_sections": [],
      "include_colab_link": true
    },
    "kernelspec": {
      "name": "python3",
      "display_name": "Python 3"
    }
  },
  "cells": [
    {
      "cell_type": "markdown",
      "metadata": {
        "id": "view-in-github",
        "colab_type": "text"
      },
      "source": [
        "<a href=\"https://colab.research.google.com/github/hodominic1/Math-152/blob/main/Exploration_2.ipynb\" target=\"_parent\"><img src=\"https://colab.research.google.com/assets/colab-badge.svg\" alt=\"Open In Colab\"/></a>"
      ]
    },
    {
      "cell_type": "markdown",
      "metadata": {
        "id": "fiFjA_MJcYCh"
      },
      "source": [
        "#The Random Walk in Birds\r\n",
        "By: David Bartlett, Dean Ben-Zour, Jun Du, Dominic Ho and Perry Xie\r\n",
        "\r\n",
        "##Introduction\r\n",
        "Throughout time, there has been a fascinating phenomenon occuring in the animal kingdom in a seasonal cycle. Every year, twice a year, the majority of bird species act in a unique way, and migrate to the other side of the planet. While the reasoning behind the migration varies from climate and food scarcity, it is still baffling to notice how almost all birds, from all species, cover almost the exact same route, in every migration. A [research](https://news.cornell.edu/stories/2020/03/ornithology-lab-releases-high-resolution-migration-maps) by the Ornithology lab of Cornell University shows the difference in bird populations in different regions, according to migration patterns. Similar to the central limit theorem, birds are migrating in \"random\" paths, as they cannot actually coordinate a massive migration, but only trust their personal (or related flock) senses. Moreover, the distribution of routes is fairly normal, and suggest that there is correlation between birds migration and the central limit theory, which claims that the sum of random variables tends to be normally distributed, or in other words, when testing random variables over time, the central limit theory states that the distribution of results should be in a bell-shaped graph, meaning most of the results will be distributed around the center of the graph.\r\n"
      ]
    },
    {
      "cell_type": "markdown",
      "metadata": {
        "id": "3xJ3B_eVcaY2"
      },
      "source": [
        "### Testing for similarity\r\n",
        "In our paper, we will simulate bird migrations repeatedly, using random walk theory, and try to prove that there are similarities between the patterns of bird migration and central limit theorem. In order to do so, we will create a function that generates random paths of birds during migration season. With the results of our tests we will create visuals that relate our hypothesis, which is that bird migrate in a pattern similar to central limit theorem. "
      ]
    },
    {
      "cell_type": "code",
      "metadata": {
        "id": "ZczxirhFtHrh"
      },
      "source": [
        "import numpy as np\r\n",
        "import matplotlib.pyplot as plt\r\n",
        "from PIL import Image"
      ],
      "execution_count": null,
      "outputs": []
    },
    {
      "cell_type": "markdown",
      "metadata": {
        "id": "k7SkfZi55jVe"
      },
      "source": [
        "### Simple walk calculation\r\n",
        "\r\n",
        "Before we create our simulation and model, first we wanted to test for results in a simple walk. We created a one dimensional function, where the player can move either to the right or to the left. Based on central limit theorem, if we test this function in large numbers, say large integer N, the average result should be $\\sqrt N$ , or close to $\\sqrt N$. This make sense, because if the player has two choices with the same probability, after playing a thousand rounds, the results should be equal between the two results."
      ]
    },
    {
      "cell_type": "code",
      "metadata": {
        "id": "GvD3R28gyF79"
      },
      "source": [
        "def simplewalk(times):\n",
        "  x = 0 # X position\n",
        "  # record where X at\n",
        "  recordX = []  \n",
        "  # a random list, when result shows 0 then X go left, when result shows 1 then X go right\n",
        "  flip = np.random.choice([0,1],times)\n",
        "  for i in flip:\n",
        "    if i == 0:\n",
        "      # if X at 0, X could not go left.\n",
        "      if x != 0:\n",
        "        x = x - 1\n",
        "    else:\n",
        "      x = x + 1\n",
        "    recordX.append(x)\n",
        "  return recordX[x]"
      ],
      "execution_count": null,
      "outputs": []
    },
    {
      "cell_type": "code",
      "metadata": {
        "id": "nDLjSfvOb9R6",
        "colab": {
          "base_uri": "https://localhost:8080/"
        },
        "outputId": "9876e996-b9c5-4744-a561-c5db32b8d3a8"
      },
      "source": [
        "simplewalk(100)"
      ],
      "execution_count": null,
      "outputs": [
        {
          "output_type": "execute_result",
          "data": {
            "text/plain": [
              "0"
            ]
          },
          "metadata": {
            "tags": []
          },
          "execution_count": 3
        }
      ]
    },
    {
      "cell_type": "markdown",
      "metadata": {
        "id": "1GqGbPYm5opB"
      },
      "source": [
        "### Bird Migration Simulation\r\n",
        "Next, we want to add another dimension to our function, which will help us simulate the birds' flight direction more accurately. Adding two more sides, up and down, allows us to create an actual path that the birds will take on their journey. \r\n"
      ]
    },
    {
      "cell_type": "code",
      "metadata": {
        "id": "rjCcFB9bB6gL"
      },
      "source": [
        "def rand_walk(coord_y, coord_x, step):\r\n",
        "    '''\r\n",
        "    This function controls the direction of each bird and is used in conjunction with another function to plot every point from its origin to destination. \r\n",
        "    The up and left directions are kept at a lower number than the down and right direction to simulate a real bird migration path. \r\n",
        "    Birds tend to travel in one general direction and this representation simulates flying south for the winter.\r\n",
        "    '''\r\n",
        "    # Starting Coordinates \r\n",
        "    coord = np.array([coord_y, coord_x, -1])\r\n",
        "    directions = np.array([[24,0],  #Down \r\n",
        "                          [-2,0],  #Up\r\n",
        "                          [0,24],   #Right\r\n",
        "                          [0,-2]]) #Left\r\n",
        "    count = 1\r\n",
        "\r\n",
        "    # walked_path keeps track of coordinates of each step\r\n",
        "    walked_path = np.zeros((step+1, 3))  # There are 4 options in the direction numpy array\r\n",
        "    walked_path[0] = coord\r\n",
        "#     print(f'Currently at: {walked_path[0]}')\r\n",
        "\r\n",
        "    while count < step+1:\r\n",
        "        # Chooses a random direction \r\n",
        "        index = np.random.randint(4) # Creates 4 integers randomly chosen to assign each to the respective index of the direction numpy array\r\n",
        "        walk = directions[index, :]\r\n",
        "\r\n",
        "        # Adds direction to the coordinates \r\n",
        "        coord_y += walk[0] # also can be written as coord_y = coord_y + walk[0] in which the y-coordinate is either moved up or down\r\n",
        "        coord_x += walk[1] # coord_x = coord_x + walk[1] in which the x coordinate is either moved left or right\r\n",
        "        coord = np.array([coord_y, coord_x, index]) # Creates a numpy array for the coordinates\r\n",
        "        walked_path[count] = coord\r\n",
        "        count+=1 # count is increased by one until count < step+1\r\n",
        "    \r\n",
        "    return walked_path\r\n",
        "\r\n",
        "def simulate_flight(bird, step):\r\n",
        "    '''\r\n",
        "    This function is used to assign a certain number of birds a flight path of a certain number of steps. \r\n",
        "    The starting position is given as a random position within the first green region. \r\n",
        "    This function is responsible for giving the bird its start and for applying the rand_walk function to each random bird.\r\n",
        "    '''\r\n",
        "    # simulate migratory random walk from start region to end region \r\n",
        "    # start at 50x150 box, coord: (50,50), (50,150), (150,50), (150x150)\r\n",
        "    # end at 50x50 box, coord: (350, 450), (350,600), (450, 600), (600,600) \r\n",
        "    # returns 3d array that keeps track of each birds coordinates in each walk\r\n",
        "\r\n",
        "    flight_track = np.zeros((bird, step+1, 3))\r\n",
        "\r\n",
        "    for i in range(bird):\r\n",
        "        # Chooses a random starting place from starting box\r\n",
        "        start_y = np.random.randint(50, 150)\r\n",
        "        start_x = np.random.randint(50, 150)\r\n",
        "        flight_track[i] = rand_walk(start_y, start_x, step) #applies the rand_walk function to the birds in the starting region\r\n",
        "    \r\n",
        "    return flight_track"
      ],
      "execution_count": null,
      "outputs": []
    },
    {
      "cell_type": "markdown",
      "metadata": {
        "id": "ASqDQDj3cFJE"
      },
      "source": [
        "### PIL Image\r\n",
        "We used PIL image to help us visualize the path that each bird is taking in our simulation. Since not all birds start from the exact same point, we added a random factor to the starting point to ensure that each bird will start from a random location. However, since the majority of birds that migrate during the winter are located in the north, all starting locations were constricted to the cyan square, which represents the Northern area. \r\n",
        "The red and blue lines represent the path of each bird in the simulation. There are 100 birds in our simulation, thus there are 100 red and blue paths. The blue lines are for birds that migrated successfully and reached their goal destination in the south, which is represented by the yellow square. respectively, the red lines are for birds that failed in their journey and did not reach their goal destination."
      ]
    },
    {
      "cell_type": "code",
      "metadata": {
        "colab": {
          "base_uri": "https://localhost:8080/",
          "height": 885
        },
        "id": "HERqyp47B65H",
        "outputId": "7f6f6700-1d6a-4401-f9d6-727fcd6dbbfd"
      },
      "source": [
        "# flight_path keeps track of all bird's walks\r\n",
        "flight_path = simulate_flight(100, 60) # There are 100 birds traveling 60 steps\r\n",
        "\r\n",
        "solid = np.zeros((800, 800,3), dtype=np.uint8) # uint8 = unsigned 8-bit integer.  Must be in 0...255.\r\n",
        "count = 0\r\n",
        "\r\n",
        "# Set up entire region\r\n",
        "for x in range(800):\r\n",
        "    for y in range(800):\r\n",
        "        solid[y,x] = [255,255,255] \r\n",
        "        \r\n",
        "# Start region is created in the upper left side of the region in green\r\n",
        "for x in range(50, 150):\r\n",
        "    for y in range(50,150):\r\n",
        "        solid[y,x] = [0,255,0]\r\n",
        "    \r\n",
        "# Destination is created in the bottom right side of the region in yellow\r\n",
        "for x in range(400, 550):\r\n",
        "    for y in range(400, 550):\r\n",
        "        solid[y,x] = [255,255,0]\r\n",
        "    \r\n",
        "# Code checks for whether the last point is in the destination\r\n",
        "for flight in flight_path:\r\n",
        "    in_destination = False # in_destination used to keep track of the birds that end up in the destination\r\n",
        "    end_coord_y = flight[-1][0]\r\n",
        "    end_coord_x = flight[-1][1]\r\n",
        "    \r\n",
        "    # Sets parameters for when the bird has arrived to its destination\r\n",
        "    if end_coord_y > 400 and end_coord_y < 550 and end_coord_x > 400 and end_coord_x < 550:\r\n",
        "        in_destination = True\r\n",
        "        count += 1\r\n",
        "    \r\n",
        "    # Places a point for each coordinate\r\n",
        "    for i in range(flight.shape[0]):\r\n",
        "        coord_y = int(flight[i][0])\r\n",
        "        coord_x = int(flight[i][1])\r\n",
        "        solid[coord_y, coord_x] = [255,0,0] # Each coordinate will be shown as red until the last point is in the destination\r\n",
        "        \r\n",
        "        # check which direction the point came from and colors in the path\r\n",
        "        # Blue if the path is in target destination\r\n",
        "        # Red if not\r\n",
        "\r\n",
        "        # prev_y and prev_x are the previous coordinates \r\n",
        "        # traces from current to previous \r\n",
        "        if flight[i][2] == 0: # Down\r\n",
        "            if in_destination:\r\n",
        "                prev_y = int(flight[i-1][0]) # A prev_y variable is created to make any bird's path entering the destination from above blue\r\n",
        "                solid[prev_y:coord_y,coord_x] = [0,0,255]\r\n",
        "            else:\r\n",
        "                prev_y = int(flight[i-1][0])\r\n",
        "                solid[prev_y:coord_y,coord_x] = [255,0,0] # Keeps bird's path that didn't enter above the destination red\r\n",
        "                \r\n",
        "        elif flight[i][2] == 1: # Up\r\n",
        "            if in_destination:\r\n",
        "                prev_y = int(flight[i-1][0]) # Again, prev_y variable is created to mark any bird's path entering the destination from below blue\r\n",
        "                solid[coord_y:prev_y,coord_x] = [0,0,255]\r\n",
        "            else: \r\n",
        "                prev_y = int(flight[i-1][0])\r\n",
        "                solid[coord_y:prev_y,coord_x] = [255,0,0] # Keeps bird's path that didn't enter below the destination red\r\n",
        "                \r\n",
        "        elif flight[i][2] == 2: # Right\r\n",
        "            if in_destination:\r\n",
        "                prev_x = int(flight[i-1][1]) # A prev_x variable is created to mark any bird's path entering the destination from the right blue\r\n",
        "                solid[coord_y,prev_x:coord_x] = [0,0,255]\r\n",
        "            else: \r\n",
        "                prev_x = int(flight[i-1][1])\r\n",
        "                solid[coord_y,prev_x:coord_x] = [255,0,0] # Keeps bird's path that didn't enter from the right of the destination red\r\n",
        "                \r\n",
        "        elif flight[i][2] == 3: #Left\r\n",
        "            if in_destination:\r\n",
        "                prev_x = int(flight[i-1][1]) # Again, prev_x variable is created to mark any bird's path entering the destination from the left blue\r\n",
        "                solid[coord_y,coord_x:prev_x] = [0,0,255]\r\n",
        "            else:\r\n",
        "                prev_x = int(flight[i-1][1])\r\n",
        "                solid[coord_y,coord_x:prev_x] = [255,0,0] # Keeps bird's path that didn't enter from the left of the destination red\r\n",
        "        \r\n",
        "img = Image.fromarray(solid) # Create an image from the array.\r\n",
        "display(img)\r\n",
        "\r\n",
        "print(f'Birds that reached the destination: {count}')\r\n",
        "print(f'Birds that did not reach the destination: {flight_path.shape[0] - count}')\r\n",
        "print(f'Percentage reached: {round((count/flight_path.shape[0])*100, 2)}%') \r\n",
        "print(f'Total: {flight_path.shape[0]}')\r\n",
        "\r\n"
      ],
      "execution_count": null,
      "outputs": [
        {
          "output_type": "display_data",
          "data": {
            "image/png": "[encoded data removed]",
            "text/plain": [
              "<PIL.Image.Image image mode=RGB size=800x800 at 0x7F5A679B5E10>"
            ]
          },
          "metadata": {
            "tags": []
          }
        },
        {
          "output_type": "stream",
          "text": [
            "Birds that reached the destination: 36\n",
            "Birds that did not reach the destination: 64\n",
            "Percentage reached: 36.0%\n",
            "Total: 100\n"
          ],
          "name": "stdout"
        }
      ]
    },
    {
      "cell_type": "markdown",
      "metadata": {
        "id": "cJTwyoEDDK8t"
      },
      "source": [
        "#Matplotlib"
      ]
    },
    {
      "cell_type": "markdown",
      "metadata": {
        "id": "rmXi4DTmnlvr"
      },
      "source": [
        "In order to see the pattern in the simulation, we observe the distance from the ending point of each bird, and the goal destination. For this simulation, the starting point was similar for all birds, at $75$, and the goal destination was set to $550$. We created a histogram to check for a trend in the simulation. Our x axis was based on the distance between the starting point and the end point, while our y axis was used to count the amount of birds that reached about the same point.\n",
        "Indeed we could see a trend that resembles a bell-shaped curve, with most of the birds reaching a point between the starting point and the goal point, a few birds that barely moved from the starting point, and about a third of the birds that reached the destination."
      ]
    },
    {
      "cell_type": "code",
      "metadata": {
        "id": "-qnF69JZibbK"
      },
      "source": [
        "def calc_dist(start, end): # Distance formula\r\n",
        "    '''\r\n",
        "    This function applies the distance formula to each bird's path\r\n",
        "    '''\r\n",
        "    x_diff = start[0] - end[0]\r\n",
        "    y_diff = start[1] - end[1]\r\n",
        "    distance = np.sqrt((x_diff**2)+(y_diff**2)) #distance formula\r\n",
        "    return round(distance, 4) #returns rounded distance\r\n",
        "\r\n",
        "\r\n",
        "flight_distance = [] # Array to store the distances \r\n",
        "for flight in flight_path: \r\n",
        "  distance = calc_dist(flight[0], flight[-1])  # flight[0] is the first coordinate, fight[-1] is the last coordinate\r\n",
        "  flight_distance.append(distance) "
      ],
      "execution_count": null,
      "outputs": []
    },
    {
      "cell_type": "code",
      "metadata": {
        "id": "I4YgujG0i_dU",
        "colab": {
          "base_uri": "https://localhost:8080/",
          "height": 621
        },
        "outputId": "16b4c8cd-531f-4cc6-a9fe-0d5a3a1261ca"
      },
      "source": [
        "fig,ax = plt.subplots(figsize=(10,10))\n",
        "n, bins, patches = plt.hist(flight_distance, bins = 25, ec = 'white', linewidth = 1)\n",
        "# Set the bars in certain ranges different colors\n",
        "for i in range(0,6):\n",
        "  patches[i].set_facecolor('b') #Sets certain bins a certain color based on their relative location to the destination\n",
        "for i in range(6, 16):\n",
        "  patches[i].set_facecolor('g')\n",
        "for i in range(16, 25):\n",
        "  patches[i].set_facecolor('r')\n",
        "patches[0].set_label('close')\n",
        "patches[6].set_label('relatively close')\n",
        "patches[16].set_label('far')\n",
        "plt.legend()\n",
        "plt.title('Flight Path Distance') # Figure label\n",
        "plt.xlabel('Distance') # x-label\n",
        "plt.ylabel('Number of Birds') # y-label\n",
        "plt.show()"
      ],
      "execution_count": null,
      "outputs": [
        {
          "output_type": "display_data",
          "data": {
            "image/png": "[encoded data removed]",
            "text/plain": [
              "<Figure size 720x720 with 1 Axes>"
            ]
          },
          "metadata": {
            "tags": [],
            "needs_background": "light"
          }
        }
      ]
    },
    {
      "cell_type": "markdown",
      "metadata": {
        "id": "XXdiUHSvrIvo"
      },
      "source": [
        "##Conclusion\r\n",
        "\r\n",
        "Even though our histogram wasn’t close to perfect, we must consider that we had only done 100 tests. We tried a larger sample size of birds and noticed an even stronger inclination toward the normal bell-curve. This further emphasisez the ideas of the central limit theorem. Any more and it would’ve been harder to read the PIL graph. The more tests that are run, the more accurate and the closer we get to the shape of the bell curve for the histogram. In short, with creating a simulation of bird migration, graphing it into a PIL and histogram, and studying the results, we can conclude that there is a correlation between bird migration and the central limit theorem using random walk theory. \r\n",
        "\r\n",
        "Furthermore, we noticed that the percentage of birds that made it to the destination remained around the 20 to 40 percent range. This was consistent with data taken in reality from bird migration patterns. We also noticed the outliers of the data at the very shortest and furthest distances. Likewise, around the mean there are several dips in the data, which could be a result of rounding issues. Since we are using each bin to represent a small range of numbers, the rounding of the distances may have resulted in birds being on the cusp of another bin.\r\n"
      ]
    },
    {
      "cell_type": "markdown",
      "metadata": {
        "id": "ZGxOVWjvFwyH"
      },
      "source": [
        "#Bibliography"
      ]
    },
    {
      "cell_type": "markdown",
      "metadata": {
        "id": "CZ_nqzp6FzD-"
      },
      "source": [
        "1. Borgmann, Kathi. \"Ornithology lab releases high-resolution migration maps\" Last modified March 3, 2020. https://news.cornell.edu/stories/2020/03/ornithology-lab-releases-high-resolution-migration-maps"
      ]
    }
  ]
}